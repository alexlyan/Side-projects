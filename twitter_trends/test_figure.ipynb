{
 "cells": [
  {
   "cell_type": "code",
   "execution_count": 7,
   "metadata": {},
   "outputs": [],
   "source": [
    "import tweepy \n",
    "from tweepy import OAuthHandler\n",
    "from tweepy import API\n",
    "from tweepy import Cursor\n",
    "import json\n",
    "import plotly.express as pex\n",
    "import pandas as pd"
   ]
  },
  {
   "cell_type": "code",
   "execution_count": 3,
   "metadata": {},
   "outputs": [],
   "source": [
    "ACCESS_TOKEN = '1241442279820349440-YQCAoIPTgl35DsZpy0wE7OSwIjMGGT'\n",
    "ACCESS_TOKEN_SECRET = 'ZhiceZOw8tQz8wYCLWX9GxTfnHWOaQRoKSwpLEfMV6nzn'\n",
    "CONSUMER_KEY = \"SHxbfc2hZVd2lTgA2yzuXdB7m\"\n",
    "CONSUMER_SECRET = \"05HnNsg7r4z49QJJaGUe0n9P0xcZxDJRsXQKV901k6dcbV81Li\""
   ]
  },
  {
   "cell_type": "markdown",
   "metadata": {},
   "source": [
    "### Get access to twitter"
   ]
  },
  {
   "cell_type": "code",
   "execution_count": 5,
   "metadata": {},
   "outputs": [],
   "source": [
    "auth = OAuthHandler(CONSUMER_KEY, CONSUMER_SECRET)\n",
    "auth.set_access_token(ACCESS_TOKEN, ACCESS_TOKEN_SECRET)\n",
    "\n",
    "twitter_client = API(auth, wait_on_rate_limit=True, wait_on_rate_limit_notify=True)"
   ]
  },
  {
   "cell_type": "markdown",
   "metadata": {},
   "source": [
    "### Twitter trends - Data Collection"
   ]
  },
  {
   "cell_type": "code",
   "execution_count": 8,
   "metadata": {},
   "outputs": [],
   "source": [
    "# dict of tweets\n",
    "# country code\n",
    "woeid = 12723\n",
    "# load df_2\n",
    "df_2 = pd.read_csv('twitter_trend_location.csv')\n",
    "options = [{f'label': df_2['name_country'].values[index], 'value': df_2['woeid'].values[index]} for index in range(len(df_2['name_country'].values))]\n",
    "# name\n",
    "name = df_2['name'][df_2['woeid']==woeid].values[0]\n",
    "# country\n",
    "country = df_2['country'][df_2['woeid']==woeid].values[0]\n",
    "# trends_place fetch top > 50 tweets"
   ]
  },
  {
   "cell_type": "code",
   "execution_count": 9,
   "metadata": {},
   "outputs": [
    {
     "data": {
      "text/plain": [
       "{'name': '#falaaa',\n",
       " 'url': 'http://twitter.com/search?q=%23falaaa',\n",
       " 'promoted_content': None,\n",
       " 'query': '%23falaaa',\n",
       " 'tweet_volume': None}"
      ]
     },
     "execution_count": 9,
     "metadata": {},
     "output_type": "execute_result"
    }
   ],
   "source": [
    "twitter_client.trends_place(woeid)[0]['trends'][0]"
   ]
  },
  {
   "cell_type": "code",
   "execution_count": 10,
   "metadata": {},
   "outputs": [],
   "source": [
    "# Base Dataframe \n",
    "df_1 = pd.DataFrame(twitter_client.trends_place(woeid)[0]['trends'])\n",
    "# df_1['woeid'] = df_2[df_2['woeid'] == woeid]['woeid']"
   ]
  },
  {
   "cell_type": "code",
   "execution_count": 14,
   "metadata": {},
   "outputs": [],
   "source": [
    "# inserting woeid number\n",
    "\n",
    "df_1.insert(0, 'woeid', int(df_2[df_2['woeid'] == woeid]['woeid']))\n",
    "\n",
    "# Inserting city name\n",
    "df_1.insert(1, 'city', name)\n",
    "\n",
    "# Inserting country name\n",
    "df_1.insert(2, 'country', country)"
   ]
  },
  {
   "cell_type": "code",
   "execution_count": 15,
   "metadata": {},
   "outputs": [],
   "source": [
    "# Concat two dataframe for "
   ]
  },
  {
   "cell_type": "code",
   "execution_count": 109,
   "metadata": {},
   "outputs": [],
   "source": [
    "import pandas as pd\n",
    "# to csv\n",
    "# pd.DataFrame(json.loads(json.dumps(f, indent=2)))\n",
    "# df['name_country'] = df[['name', 'country']].apply(lambda x: ', '.join(x), axis=1)\n",
    "df.to_csv('twitter_trend_location.csv')\n"
   ]
  },
  {
   "cell_type": "code",
   "execution_count": 258,
   "metadata": {},
   "outputs": [],
   "source": [
    "import numpy as np"
   ]
  },
  {
   "cell_type": "code",
   "execution_count": 113,
   "metadata": {},
   "outputs": [
    {
     "data": {
      "application/vnd.plotly.v1+json": {
       "config": {
        "plotlyServerURL": "https://plot.ly"
       },
       "data": [
        {
         "branchvalues": "total",
         "customdata": [
          [
           0
          ],
          [
           0
          ],
          [
           0
          ],
          [
           0
          ],
          [
           0
          ],
          [
           0
          ],
          [
           0
          ],
          [
           0
          ],
          [
           0
          ],
          [
           53598
          ],
          [
           0
          ],
          [
           0
          ],
          [
           0
          ],
          [
           96891
          ],
          [
           0
          ],
          [
           0
          ],
          [
           0
          ],
          [
           0
          ],
          [
           0
          ],
          [
           0
          ],
          [
           0
          ],
          [
           47221
          ],
          [
           0
          ],
          [
           0
          ],
          [
           0
          ],
          [
           0
          ],
          [
           0
          ],
          [
           0
          ],
          [
           0
          ],
          [
           0
          ],
          [
           0
          ],
          [
           13733
          ],
          [
           0
          ],
          [
           0
          ],
          [
           20864
          ],
          [
           35554
          ],
          [
           0
          ],
          [
           0
          ],
          [
           136267
          ],
          [
           0
          ],
          [
           0
          ],
          [
           0
          ],
          [
           0
          ],
          [
           0
          ],
          [
           15151
          ],
          [
           0
          ],
          [
           0
          ],
          [
           0
          ],
          [
           0
          ],
          [
           0
          ],
          [
           419279
          ],
          [
           419279
          ]
         ],
         "domain": {
          "x": [
           0,
           1
          ],
          "y": [
           0,
           1
          ]
         },
         "hoverlabel": {
          "namelength": 0
         },
         "hovertemplate": "%{tweet_volume}",
         "ids": [
          "United Kingdom/Birmingham/#ASongOrMovieForHomeUtensils",
          "United Kingdom/Birmingham/#AskIommi",
          "United Kingdom/Birmingham/#BASEBALLCAPS",
          "United Kingdom/Birmingham/#COYY",
          "United Kingdom/Birmingham/#ChildrensArtWeek",
          "United Kingdom/Birmingham/#DonaldOut",
          "United Kingdom/Birmingham/#GhostofTsushima",
          "United Kingdom/Birmingham/#Harryhausen100",
          "United Kingdom/Birmingham/#JeremyVine",
          "United Kingdom/Birmingham/#Karachistockexchange",
          "United Kingdom/Birmingham/#LDReporter",
          "United Kingdom/Birmingham/#LooseWomen",
          "United Kingdom/Birmingham/#LuminateVSD20",
          "United Kingdom/Birmingham/#MondayMotivation",
          "United Kingdom/Birmingham/#NHSBirthday",
          "United Kingdom/Birmingham/#Nibbies",
          "United Kingdom/Birmingham/#SpotlightPride",
          "United Kingdom/Birmingham/#ThankYouTogether",
          "United Kingdom/Birmingham/#TheTimeIsNow",
          "United Kingdom/Birmingham/#TransWomenAreWomen",
          "United Kingdom/Birmingham/#TrueReadingName",
          "United Kingdom/Birmingham/#TrumpIsARacist",
          "United Kingdom/Birmingham/#UofGgrad20",
          "United Kingdom/Birmingham/#Wimbledon",
          "United Kingdom/Birmingham/#dominicummimgs",
          "United Kingdom/Birmingham/#ecommerce",
          "United Kingdom/Birmingham/#falaaa",
          "United Kingdom/Birmingham/#herefordhour",
          "United Kingdom/Birmingham/#leicesterlockdown",
          "United Kingdom/Birmingham/#talkleadership",
          "United Kingdom/Birmingham/#wato",
          "United Kingdom/Birmingham/Aretha Franklin",
          "United Kingdom/Birmingham/Balogun",
          "United Kingdom/Birmingham/Craig Gordon",
          "United Kingdom/Birmingham/Erica",
          "United Kingdom/Birmingham/Gomes",
          "United Kingdom/Birmingham/Great Depression",
          "United Kingdom/Birmingham/Impartial",
          "United Kingdom/Birmingham/Iran",
          "United Kingdom/Birmingham/Kris Commons",
          "United Kingdom/Birmingham/Matt Lucas",
          "United Kingdom/Birmingham/Mejbri",
          "United Kingdom/Birmingham/Pipe Bomb",
          "United Kingdom/Birmingham/Revenge of the Sith",
          "United Kingdom/Birmingham/Roosevelt",
          "United Kingdom/Birmingham/SUNMI",
          "United Kingdom/Birmingham/Times Radio",
          "United Kingdom/Birmingham/Toffee",
          "United Kingdom/Birmingham/Worzel Gummidge",
          "United Kingdom/Birmingham/Yarmouth",
          "United Kingdom/Birmingham",
          "United Kingdom"
         ],
         "labels": [
          "#ASongOrMovieForHomeUtensils",
          "#AskIommi",
          "#BASEBALLCAPS",
          "#COYY",
          "#ChildrensArtWeek",
          "#DonaldOut",
          "#GhostofTsushima",
          "#Harryhausen100",
          "#JeremyVine",
          "#Karachistockexchange",
          "#LDReporter",
          "#LooseWomen",
          "#LuminateVSD20",
          "#MondayMotivation",
          "#NHSBirthday",
          "#Nibbies",
          "#SpotlightPride",
          "#ThankYouTogether",
          "#TheTimeIsNow",
          "#TransWomenAreWomen",
          "#TrueReadingName",
          "#TrumpIsARacist",
          "#UofGgrad20",
          "#Wimbledon",
          "#dominicummimgs",
          "#ecommerce",
          "#falaaa",
          "#herefordhour",
          "#leicesterlockdown",
          "#talkleadership",
          "#wato",
          "Aretha Franklin",
          "Balogun",
          "Craig Gordon",
          "Erica",
          "Gomes",
          "Great Depression",
          "Impartial",
          "Iran",
          "Kris Commons",
          "Matt Lucas",
          "Mejbri",
          "Pipe Bomb",
          "Revenge of the Sith",
          "Roosevelt",
          "SUNMI",
          "Times Radio",
          "Toffee",
          "Worzel Gummidge",
          "Yarmouth",
          "Birmingham",
          "United Kingdom"
         ],
         "marker": {
          "coloraxis": "coloraxis",
          "colors": [
           0,
           0,
           0,
           0,
           0,
           0,
           0,
           0,
           0,
           53598,
           0,
           0,
           0,
           96891,
           0,
           0,
           0,
           0,
           0,
           0,
           0,
           47221,
           0,
           0,
           0,
           0,
           0,
           0,
           0,
           0,
           0,
           13733,
           0,
           0,
           20864,
           35554,
           0,
           0,
           136267,
           0,
           0,
           0,
           0,
           0,
           15151,
           0,
           0,
           0,
           0,
           0,
           419279,
           419279
          ]
         },
         "name": "",
         "parents": [
          "United Kingdom/Birmingham",
          "United Kingdom/Birmingham",
          "United Kingdom/Birmingham",
          "United Kingdom/Birmingham",
          "United Kingdom/Birmingham",
          "United Kingdom/Birmingham",
          "United Kingdom/Birmingham",
          "United Kingdom/Birmingham",
          "United Kingdom/Birmingham",
          "United Kingdom/Birmingham",
          "United Kingdom/Birmingham",
          "United Kingdom/Birmingham",
          "United Kingdom/Birmingham",
          "United Kingdom/Birmingham",
          "United Kingdom/Birmingham",
          "United Kingdom/Birmingham",
          "United Kingdom/Birmingham",
          "United Kingdom/Birmingham",
          "United Kingdom/Birmingham",
          "United Kingdom/Birmingham",
          "United Kingdom/Birmingham",
          "United Kingdom/Birmingham",
          "United Kingdom/Birmingham",
          "United Kingdom/Birmingham",
          "United Kingdom/Birmingham",
          "United Kingdom/Birmingham",
          "United Kingdom/Birmingham",
          "United Kingdom/Birmingham",
          "United Kingdom/Birmingham",
          "United Kingdom/Birmingham",
          "United Kingdom/Birmingham",
          "United Kingdom/Birmingham",
          "United Kingdom/Birmingham",
          "United Kingdom/Birmingham",
          "United Kingdom/Birmingham",
          "United Kingdom/Birmingham",
          "United Kingdom/Birmingham",
          "United Kingdom/Birmingham",
          "United Kingdom/Birmingham",
          "United Kingdom/Birmingham",
          "United Kingdom/Birmingham",
          "United Kingdom/Birmingham",
          "United Kingdom/Birmingham",
          "United Kingdom/Birmingham",
          "United Kingdom/Birmingham",
          "United Kingdom/Birmingham",
          "United Kingdom/Birmingham",
          "United Kingdom/Birmingham",
          "United Kingdom/Birmingham",
          "United Kingdom/Birmingham",
          "United Kingdom",
          ""
         ],
         "type": "treemap",
         "values": [
          0,
          0,
          0,
          0,
          0,
          0,
          0,
          0,
          0,
          53598,
          0,
          0,
          0,
          96891,
          0,
          0,
          0,
          0,
          0,
          0,
          0,
          47221,
          0,
          0,
          0,
          0,
          0,
          0,
          0,
          0,
          0,
          13733,
          0,
          0,
          20864,
          35554,
          0,
          0,
          136267,
          0,
          0,
          0,
          0,
          0,
          15151,
          0,
          0,
          0,
          0,
          0,
          419279,
          419279
         ]
        }
       ],
       "layout": {
        "autosize": true,
        "coloraxis": {
         "colorbar": {
          "title": {
           "text": "tweet_volume"
          }
         },
         "colorscale": [
          [
           0,
           "rgb(103,0,31)"
          ],
          [
           0.1,
           "rgb(178,24,43)"
          ],
          [
           0.2,
           "rgb(214,96,77)"
          ],
          [
           0.3,
           "rgb(244,165,130)"
          ],
          [
           0.4,
           "rgb(253,219,199)"
          ],
          [
           0.5,
           "rgb(247,247,247)"
          ],
          [
           0.6,
           "rgb(209,229,240)"
          ],
          [
           0.7,
           "rgb(146,197,222)"
          ],
          [
           0.8,
           "rgb(67,147,195)"
          ],
          [
           0.9,
           "rgb(33,102,172)"
          ],
          [
           1,
           "rgb(5,48,97)"
          ]
         ]
        },
        "legend": {
         "tracegroupgap": 0
        },
        "margin": {
         "t": 60
        },
        "template": {
         "data": {
          "bar": [
           {
            "error_x": {
             "color": "#2a3f5f"
            },
            "error_y": {
             "color": "#2a3f5f"
            },
            "marker": {
             "line": {
              "color": "#E5ECF6",
              "width": 0.5
             }
            },
            "type": "bar"
           }
          ],
          "barpolar": [
           {
            "marker": {
             "line": {
              "color": "#E5ECF6",
              "width": 0.5
             }
            },
            "type": "barpolar"
           }
          ],
          "carpet": [
           {
            "aaxis": {
             "endlinecolor": "#2a3f5f",
             "gridcolor": "white",
             "linecolor": "white",
             "minorgridcolor": "white",
             "startlinecolor": "#2a3f5f"
            },
            "baxis": {
             "endlinecolor": "#2a3f5f",
             "gridcolor": "white",
             "linecolor": "white",
             "minorgridcolor": "white",
             "startlinecolor": "#2a3f5f"
            },
            "type": "carpet"
           }
          ],
          "choropleth": [
           {
            "colorbar": {
             "outlinewidth": 0,
             "ticks": ""
            },
            "type": "choropleth"
           }
          ],
          "contour": [
           {
            "colorbar": {
             "outlinewidth": 0,
             "ticks": ""
            },
            "colorscale": [
             [
              0,
              "#0d0887"
             ],
             [
              0.1111111111111111,
              "#46039f"
             ],
             [
              0.2222222222222222,
              "#7201a8"
             ],
             [
              0.3333333333333333,
              "#9c179e"
             ],
             [
              0.4444444444444444,
              "#bd3786"
             ],
             [
              0.5555555555555556,
              "#d8576b"
             ],
             [
              0.6666666666666666,
              "#ed7953"
             ],
             [
              0.7777777777777778,
              "#fb9f3a"
             ],
             [
              0.8888888888888888,
              "#fdca26"
             ],
             [
              1,
              "#f0f921"
             ]
            ],
            "type": "contour"
           }
          ],
          "contourcarpet": [
           {
            "colorbar": {
             "outlinewidth": 0,
             "ticks": ""
            },
            "type": "contourcarpet"
           }
          ],
          "heatmap": [
           {
            "colorbar": {
             "outlinewidth": 0,
             "ticks": ""
            },
            "colorscale": [
             [
              0,
              "#0d0887"
             ],
             [
              0.1111111111111111,
              "#46039f"
             ],
             [
              0.2222222222222222,
              "#7201a8"
             ],
             [
              0.3333333333333333,
              "#9c179e"
             ],
             [
              0.4444444444444444,
              "#bd3786"
             ],
             [
              0.5555555555555556,
              "#d8576b"
             ],
             [
              0.6666666666666666,
              "#ed7953"
             ],
             [
              0.7777777777777778,
              "#fb9f3a"
             ],
             [
              0.8888888888888888,
              "#fdca26"
             ],
             [
              1,
              "#f0f921"
             ]
            ],
            "type": "heatmap"
           }
          ],
          "heatmapgl": [
           {
            "colorbar": {
             "outlinewidth": 0,
             "ticks": ""
            },
            "colorscale": [
             [
              0,
              "#0d0887"
             ],
             [
              0.1111111111111111,
              "#46039f"
             ],
             [
              0.2222222222222222,
              "#7201a8"
             ],
             [
              0.3333333333333333,
              "#9c179e"
             ],
             [
              0.4444444444444444,
              "#bd3786"
             ],
             [
              0.5555555555555556,
              "#d8576b"
             ],
             [
              0.6666666666666666,
              "#ed7953"
             ],
             [
              0.7777777777777778,
              "#fb9f3a"
             ],
             [
              0.8888888888888888,
              "#fdca26"
             ],
             [
              1,
              "#f0f921"
             ]
            ],
            "type": "heatmapgl"
           }
          ],
          "histogram": [
           {
            "marker": {
             "colorbar": {
              "outlinewidth": 0,
              "ticks": ""
             }
            },
            "type": "histogram"
           }
          ],
          "histogram2d": [
           {
            "colorbar": {
             "outlinewidth": 0,
             "ticks": ""
            },
            "colorscale": [
             [
              0,
              "#0d0887"
             ],
             [
              0.1111111111111111,
              "#46039f"
             ],
             [
              0.2222222222222222,
              "#7201a8"
             ],
             [
              0.3333333333333333,
              "#9c179e"
             ],
             [
              0.4444444444444444,
              "#bd3786"
             ],
             [
              0.5555555555555556,
              "#d8576b"
             ],
             [
              0.6666666666666666,
              "#ed7953"
             ],
             [
              0.7777777777777778,
              "#fb9f3a"
             ],
             [
              0.8888888888888888,
              "#fdca26"
             ],
             [
              1,
              "#f0f921"
             ]
            ],
            "type": "histogram2d"
           }
          ],
          "histogram2dcontour": [
           {
            "colorbar": {
             "outlinewidth": 0,
             "ticks": ""
            },
            "colorscale": [
             [
              0,
              "#0d0887"
             ],
             [
              0.1111111111111111,
              "#46039f"
             ],
             [
              0.2222222222222222,
              "#7201a8"
             ],
             [
              0.3333333333333333,
              "#9c179e"
             ],
             [
              0.4444444444444444,
              "#bd3786"
             ],
             [
              0.5555555555555556,
              "#d8576b"
             ],
             [
              0.6666666666666666,
              "#ed7953"
             ],
             [
              0.7777777777777778,
              "#fb9f3a"
             ],
             [
              0.8888888888888888,
              "#fdca26"
             ],
             [
              1,
              "#f0f921"
             ]
            ],
            "type": "histogram2dcontour"
           }
          ],
          "mesh3d": [
           {
            "colorbar": {
             "outlinewidth": 0,
             "ticks": ""
            },
            "type": "mesh3d"
           }
          ],
          "parcoords": [
           {
            "line": {
             "colorbar": {
              "outlinewidth": 0,
              "ticks": ""
             }
            },
            "type": "parcoords"
           }
          ],
          "pie": [
           {
            "automargin": true,
            "type": "pie"
           }
          ],
          "scatter": [
           {
            "marker": {
             "colorbar": {
              "outlinewidth": 0,
              "ticks": ""
             }
            },
            "type": "scatter"
           }
          ],
          "scatter3d": [
           {
            "line": {
             "colorbar": {
              "outlinewidth": 0,
              "ticks": ""
             }
            },
            "marker": {
             "colorbar": {
              "outlinewidth": 0,
              "ticks": ""
             }
            },
            "type": "scatter3d"
           }
          ],
          "scattercarpet": [
           {
            "marker": {
             "colorbar": {
              "outlinewidth": 0,
              "ticks": ""
             }
            },
            "type": "scattercarpet"
           }
          ],
          "scattergeo": [
           {
            "marker": {
             "colorbar": {
              "outlinewidth": 0,
              "ticks": ""
             }
            },
            "type": "scattergeo"
           }
          ],
          "scattergl": [
           {
            "marker": {
             "colorbar": {
              "outlinewidth": 0,
              "ticks": ""
             }
            },
            "type": "scattergl"
           }
          ],
          "scattermapbox": [
           {
            "marker": {
             "colorbar": {
              "outlinewidth": 0,
              "ticks": ""
             }
            },
            "type": "scattermapbox"
           }
          ],
          "scatterpolar": [
           {
            "marker": {
             "colorbar": {
              "outlinewidth": 0,
              "ticks": ""
             }
            },
            "type": "scatterpolar"
           }
          ],
          "scatterpolargl": [
           {
            "marker": {
             "colorbar": {
              "outlinewidth": 0,
              "ticks": ""
             }
            },
            "type": "scatterpolargl"
           }
          ],
          "scatterternary": [
           {
            "marker": {
             "colorbar": {
              "outlinewidth": 0,
              "ticks": ""
             }
            },
            "type": "scatterternary"
           }
          ],
          "surface": [
           {
            "colorbar": {
             "outlinewidth": 0,
             "ticks": ""
            },
            "colorscale": [
             [
              0,
              "#0d0887"
             ],
             [
              0.1111111111111111,
              "#46039f"
             ],
             [
              0.2222222222222222,
              "#7201a8"
             ],
             [
              0.3333333333333333,
              "#9c179e"
             ],
             [
              0.4444444444444444,
              "#bd3786"
             ],
             [
              0.5555555555555556,
              "#d8576b"
             ],
             [
              0.6666666666666666,
              "#ed7953"
             ],
             [
              0.7777777777777778,
              "#fb9f3a"
             ],
             [
              0.8888888888888888,
              "#fdca26"
             ],
             [
              1,
              "#f0f921"
             ]
            ],
            "type": "surface"
           }
          ],
          "table": [
           {
            "cells": {
             "fill": {
              "color": "#EBF0F8"
             },
             "line": {
              "color": "white"
             }
            },
            "header": {
             "fill": {
              "color": "#C8D4E3"
             },
             "line": {
              "color": "white"
             }
            },
            "type": "table"
           }
          ]
         },
         "layout": {
          "annotationdefaults": {
           "arrowcolor": "#2a3f5f",
           "arrowhead": 0,
           "arrowwidth": 1
          },
          "coloraxis": {
           "colorbar": {
            "outlinewidth": 0,
            "ticks": ""
           }
          },
          "colorscale": {
           "diverging": [
            [
             0,
             "#8e0152"
            ],
            [
             0.1,
             "#c51b7d"
            ],
            [
             0.2,
             "#de77ae"
            ],
            [
             0.3,
             "#f1b6da"
            ],
            [
             0.4,
             "#fde0ef"
            ],
            [
             0.5,
             "#f7f7f7"
            ],
            [
             0.6,
             "#e6f5d0"
            ],
            [
             0.7,
             "#b8e186"
            ],
            [
             0.8,
             "#7fbc41"
            ],
            [
             0.9,
             "#4d9221"
            ],
            [
             1,
             "#276419"
            ]
           ],
           "sequential": [
            [
             0,
             "#0d0887"
            ],
            [
             0.1111111111111111,
             "#46039f"
            ],
            [
             0.2222222222222222,
             "#7201a8"
            ],
            [
             0.3333333333333333,
             "#9c179e"
            ],
            [
             0.4444444444444444,
             "#bd3786"
            ],
            [
             0.5555555555555556,
             "#d8576b"
            ],
            [
             0.6666666666666666,
             "#ed7953"
            ],
            [
             0.7777777777777778,
             "#fb9f3a"
            ],
            [
             0.8888888888888888,
             "#fdca26"
            ],
            [
             1,
             "#f0f921"
            ]
           ],
           "sequentialminus": [
            [
             0,
             "#0d0887"
            ],
            [
             0.1111111111111111,
             "#46039f"
            ],
            [
             0.2222222222222222,
             "#7201a8"
            ],
            [
             0.3333333333333333,
             "#9c179e"
            ],
            [
             0.4444444444444444,
             "#bd3786"
            ],
            [
             0.5555555555555556,
             "#d8576b"
            ],
            [
             0.6666666666666666,
             "#ed7953"
            ],
            [
             0.7777777777777778,
             "#fb9f3a"
            ],
            [
             0.8888888888888888,
             "#fdca26"
            ],
            [
             1,
             "#f0f921"
            ]
           ]
          },
          "colorway": [
           "#636efa",
           "#EF553B",
           "#00cc96",
           "#ab63fa",
           "#FFA15A",
           "#19d3f3",
           "#FF6692",
           "#B6E880",
           "#FF97FF",
           "#FECB52"
          ],
          "font": {
           "color": "#2a3f5f"
          },
          "geo": {
           "bgcolor": "white",
           "lakecolor": "white",
           "landcolor": "#E5ECF6",
           "showlakes": true,
           "showland": true,
           "subunitcolor": "white"
          },
          "hoverlabel": {
           "align": "left"
          },
          "hovermode": "closest",
          "mapbox": {
           "style": "light"
          },
          "paper_bgcolor": "white",
          "plot_bgcolor": "#E5ECF6",
          "polar": {
           "angularaxis": {
            "gridcolor": "white",
            "linecolor": "white",
            "ticks": ""
           },
           "bgcolor": "#E5ECF6",
           "radialaxis": {
            "gridcolor": "white",
            "linecolor": "white",
            "ticks": ""
           }
          },
          "scene": {
           "xaxis": {
            "backgroundcolor": "#E5ECF6",
            "gridcolor": "white",
            "gridwidth": 2,
            "linecolor": "white",
            "showbackground": true,
            "ticks": "",
            "zerolinecolor": "white"
           },
           "yaxis": {
            "backgroundcolor": "#E5ECF6",
            "gridcolor": "white",
            "gridwidth": 2,
            "linecolor": "white",
            "showbackground": true,
            "ticks": "",
            "zerolinecolor": "white"
           },
           "zaxis": {
            "backgroundcolor": "#E5ECF6",
            "gridcolor": "white",
            "gridwidth": 2,
            "linecolor": "white",
            "showbackground": true,
            "ticks": "",
            "zerolinecolor": "white"
           }
          },
          "shapedefaults": {
           "line": {
            "color": "#2a3f5f"
           }
          },
          "ternary": {
           "aaxis": {
            "gridcolor": "white",
            "linecolor": "white",
            "ticks": ""
           },
           "baxis": {
            "gridcolor": "white",
            "linecolor": "white",
            "ticks": ""
           },
           "bgcolor": "#E5ECF6",
           "caxis": {
            "gridcolor": "white",
            "linecolor": "white",
            "ticks": ""
           }
          },
          "title": {
           "x": 0.05
          },
          "xaxis": {
           "automargin": true,
           "gridcolor": "white",
           "linecolor": "white",
           "ticks": "",
           "title": {
            "standoff": 15
           },
           "zerolinecolor": "white",
           "zerolinewidth": 2
          },
          "yaxis": {
           "automargin": true,
           "gridcolor": "white",
           "linecolor": "white",
           "ticks": "",
           "title": {
            "standoff": 15
           },
           "zerolinecolor": "white",
           "zerolinewidth": 2
          }
         }
        }
       }
      },
      "image/png": "[encoded data removed]",
      "text/html": [
       "<div>\n",
       "        \n",
       "        \n",
       "            <div id=\"bb8c7a7b-1818-4cec-8b7a-31d78da21a0b\" class=\"plotly-graph-div\" style=\"height:525px; width:100%;\"></div>\n",
       "            <script type=\"text/javascript\">\n",
       "                require([\"plotly\"], function(Plotly) {\n",
       "                    window.PLOTLYENV=window.PLOTLYENV || {};\n",
       "                    \n",
       "                if (document.getElementById(\"bb8c7a7b-1818-4cec-8b7a-31d78da21a0b\")) {\n",
       "                    Plotly.newPlot(\n",
       "                        'bb8c7a7b-1818-4cec-8b7a-31d78da21a0b',\n",
       "                        [{\"branchvalues\": \"total\", \"customdata\": [[0.0], [0.0], [0.0], [0.0], [0.0], [0.0], [0.0], [0.0], [0.0], [53598.0], [0.0], [0.0], [0.0], [96891.0], [0.0], [0.0], [0.0], [0.0], [0.0], [0.0], [0.0], [47221.0], [0.0], [0.0], [0.0], [0.0], [0.0], [0.0], [0.0], [0.0], [0.0], [13733.0], [0.0], [0.0], [20864.0], [35554.0], [0.0], [0.0], [136267.0], [0.0], [0.0], [0.0], [0.0], [0.0], [15151.0], [0.0], [0.0], [0.0], [0.0], [0.0], [419279.0], [419279.0]], \"domain\": {\"x\": [0.0, 1.0], \"y\": [0.0, 1.0]}, \"hoverlabel\": {\"namelength\": 0}, \"hovertemplate\": \"%{tweet_volume}\", \"ids\": [\"United Kingdom/Birmingham/#ASongOrMovieForHomeUtensils\", \"United Kingdom/Birmingham/#AskIommi\", \"United Kingdom/Birmingham/#BASEBALLCAPS\", \"United Kingdom/Birmingham/#COYY\", \"United Kingdom/Birmingham/#ChildrensArtWeek\", \"United Kingdom/Birmingham/#DonaldOut\", \"United Kingdom/Birmingham/#GhostofTsushima\", \"United Kingdom/Birmingham/#Harryhausen100\", \"United Kingdom/Birmingham/#JeremyVine\", \"United Kingdom/Birmingham/#Karachistockexchange\", \"United Kingdom/Birmingham/#LDReporter\", \"United Kingdom/Birmingham/#LooseWomen\", \"United Kingdom/Birmingham/#LuminateVSD20\", \"United Kingdom/Birmingham/#MondayMotivation\", \"United Kingdom/Birmingham/#NHSBirthday\", \"United Kingdom/Birmingham/#Nibbies\", \"United Kingdom/Birmingham/#SpotlightPride\", \"United Kingdom/Birmingham/#ThankYouTogether\", \"United Kingdom/Birmingham/#TheTimeIsNow\", \"United Kingdom/Birmingham/#TransWomenAreWomen\", \"United Kingdom/Birmingham/#TrueReadingName\", \"United Kingdom/Birmingham/#TrumpIsARacist\", \"United Kingdom/Birmingham/#UofGgrad20\", \"United Kingdom/Birmingham/#Wimbledon\", \"United Kingdom/Birmingham/#dominicummimgs\", \"United Kingdom/Birmingham/#ecommerce\", \"United Kingdom/Birmingham/#falaaa\", \"United Kingdom/Birmingham/#herefordhour\", \"United Kingdom/Birmingham/#leicesterlockdown\", \"United Kingdom/Birmingham/#talkleadership\", \"United Kingdom/Birmingham/#wato\", \"United Kingdom/Birmingham/Aretha Franklin\", \"United Kingdom/Birmingham/Balogun\", \"United Kingdom/Birmingham/Craig Gordon\", \"United Kingdom/Birmingham/Erica\", \"United Kingdom/Birmingham/Gomes\", \"United Kingdom/Birmingham/Great Depression\", \"United Kingdom/Birmingham/Impartial\", \"United Kingdom/Birmingham/Iran\", \"United Kingdom/Birmingham/Kris Commons\", \"United Kingdom/Birmingham/Matt Lucas\", \"United Kingdom/Birmingham/Mejbri\", \"United Kingdom/Birmingham/Pipe Bomb\", \"United Kingdom/Birmingham/Revenge of the Sith\", \"United Kingdom/Birmingham/Roosevelt\", \"United Kingdom/Birmingham/SUNMI\", \"United Kingdom/Birmingham/Times Radio\", \"United Kingdom/Birmingham/Toffee\", \"United Kingdom/Birmingham/Worzel Gummidge\", \"United Kingdom/Birmingham/Yarmouth\", \"United Kingdom/Birmingham\", \"United Kingdom\"], \"labels\": [\"#ASongOrMovieForHomeUtensils\", \"#AskIommi\", \"#BASEBALLCAPS\", \"#COYY\", \"#ChildrensArtWeek\", \"#DonaldOut\", \"#GhostofTsushima\", \"#Harryhausen100\", \"#JeremyVine\", \"#Karachistockexchange\", \"#LDReporter\", \"#LooseWomen\", \"#LuminateVSD20\", \"#MondayMotivation\", \"#NHSBirthday\", \"#Nibbies\", \"#SpotlightPride\", \"#ThankYouTogether\", \"#TheTimeIsNow\", \"#TransWomenAreWomen\", \"#TrueReadingName\", \"#TrumpIsARacist\", \"#UofGgrad20\", \"#Wimbledon\", \"#dominicummimgs\", \"#ecommerce\", \"#falaaa\", \"#herefordhour\", \"#leicesterlockdown\", \"#talkleadership\", \"#wato\", \"Aretha Franklin\", \"Balogun\", \"Craig Gordon\", \"Erica\", \"Gomes\", \"Great Depression\", \"Impartial\", \"Iran\", \"Kris Commons\", \"Matt Lucas\", \"Mejbri\", \"Pipe Bomb\", \"Revenge of the Sith\", \"Roosevelt\", \"SUNMI\", \"Times Radio\", \"Toffee\", \"Worzel Gummidge\", \"Yarmouth\", \"Birmingham\", \"United Kingdom\"], \"marker\": {\"coloraxis\": \"coloraxis\", \"colors\": [0.0, 0.0, 0.0, 0.0, 0.0, 0.0, 0.0, 0.0, 0.0, 53598.0, 0.0, 0.0, 0.0, 96891.0, 0.0, 0.0, 0.0, 0.0, 0.0, 0.0, 0.0, 47221.0, 0.0, 0.0, 0.0, 0.0, 0.0, 0.0, 0.0, 0.0, 0.0, 13733.0, 0.0, 0.0, 20864.0, 35554.0, 0.0, 0.0, 136267.0, 0.0, 0.0, 0.0, 0.0, 0.0, 15151.0, 0.0, 0.0, 0.0, 0.0, 0.0, 419279.0, 419279.0]}, \"name\": \"\", \"parents\": [\"United Kingdom/Birmingham\", \"United Kingdom/Birmingham\", \"United Kingdom/Birmingham\", \"United Kingdom/Birmingham\", \"United Kingdom/Birmingham\", \"United Kingdom/Birmingham\", \"United Kingdom/Birmingham\", \"United Kingdom/Birmingham\", \"United Kingdom/Birmingham\", \"United Kingdom/Birmingham\", \"United Kingdom/Birmingham\", \"United Kingdom/Birmingham\", \"United Kingdom/Birmingham\", \"United Kingdom/Birmingham\", \"United Kingdom/Birmingham\", \"United Kingdom/Birmingham\", \"United Kingdom/Birmingham\", \"United Kingdom/Birmingham\", \"United Kingdom/Birmingham\", \"United Kingdom/Birmingham\", \"United Kingdom/Birmingham\", \"United Kingdom/Birmingham\", \"United Kingdom/Birmingham\", \"United Kingdom/Birmingham\", \"United Kingdom/Birmingham\", \"United Kingdom/Birmingham\", \"United Kingdom/Birmingham\", \"United Kingdom/Birmingham\", \"United Kingdom/Birmingham\", \"United Kingdom/Birmingham\", \"United Kingdom/Birmingham\", \"United Kingdom/Birmingham\", \"United Kingdom/Birmingham\", \"United Kingdom/Birmingham\", \"United Kingdom/Birmingham\", \"United Kingdom/Birmingham\", \"United Kingdom/Birmingham\", \"United Kingdom/Birmingham\", \"United Kingdom/Birmingham\", \"United Kingdom/Birmingham\", \"United Kingdom/Birmingham\", \"United Kingdom/Birmingham\", \"United Kingdom/Birmingham\", \"United Kingdom/Birmingham\", \"United Kingdom/Birmingham\", \"United Kingdom/Birmingham\", \"United Kingdom/Birmingham\", \"United Kingdom/Birmingham\", \"United Kingdom/Birmingham\", \"United Kingdom/Birmingham\", \"United Kingdom\", \"\"], \"type\": \"treemap\", \"values\": [0.0, 0.0, 0.0, 0.0, 0.0, 0.0, 0.0, 0.0, 0.0, 53598.0, 0.0, 0.0, 0.0, 96891.0, 0.0, 0.0, 0.0, 0.0, 0.0, 0.0, 0.0, 47221.0, 0.0, 0.0, 0.0, 0.0, 0.0, 0.0, 0.0, 0.0, 0.0, 13733.0, 0.0, 0.0, 20864.0, 35554.0, 0.0, 0.0, 136267.0, 0.0, 0.0, 0.0, 0.0, 0.0, 15151.0, 0.0, 0.0, 0.0, 0.0, 0.0, 419279.0, 419279.0]}],\n",
       "                        {\"coloraxis\": {\"colorbar\": {\"title\": {\"text\": \"tweet_volume\"}}, \"colorscale\": [[0.0, \"rgb(103,0,31)\"], [0.1, \"rgb(178,24,43)\"], [0.2, \"rgb(214,96,77)\"], [0.3, \"rgb(244,165,130)\"], [0.4, \"rgb(253,219,199)\"], [0.5, \"rgb(247,247,247)\"], [0.6, \"rgb(209,229,240)\"], [0.7, \"rgb(146,197,222)\"], [0.8, \"rgb(67,147,195)\"], [0.9, \"rgb(33,102,172)\"], [1.0, \"rgb(5,48,97)\"]]}, \"legend\": {\"tracegroupgap\": 0}, \"margin\": {\"t\": 60}, \"template\": {\"data\": {\"bar\": [{\"error_x\": {\"color\": \"#2a3f5f\"}, \"error_y\": {\"color\": \"#2a3f5f\"}, \"marker\": {\"line\": {\"color\": \"#E5ECF6\", \"width\": 0.5}}, \"type\": \"bar\"}], \"barpolar\": [{\"marker\": {\"line\": {\"color\": \"#E5ECF6\", \"width\": 0.5}}, \"type\": \"barpolar\"}], \"carpet\": [{\"aaxis\": {\"endlinecolor\": \"#2a3f5f\", \"gridcolor\": \"white\", \"linecolor\": \"white\", \"minorgridcolor\": \"white\", \"startlinecolor\": \"#2a3f5f\"}, \"baxis\": {\"endlinecolor\": \"#2a3f5f\", \"gridcolor\": \"white\", \"linecolor\": \"white\", \"minorgridcolor\": \"white\", \"startlinecolor\": \"#2a3f5f\"}, \"type\": \"carpet\"}], \"choropleth\": [{\"colorbar\": {\"outlinewidth\": 0, \"ticks\": \"\"}, \"type\": \"choropleth\"}], \"contour\": [{\"colorbar\": {\"outlinewidth\": 0, \"ticks\": \"\"}, \"colorscale\": [[0.0, \"#0d0887\"], [0.1111111111111111, \"#46039f\"], [0.2222222222222222, \"#7201a8\"], [0.3333333333333333, \"#9c179e\"], [0.4444444444444444, \"#bd3786\"], [0.5555555555555556, \"#d8576b\"], [0.6666666666666666, \"#ed7953\"], [0.7777777777777778, \"#fb9f3a\"], [0.8888888888888888, \"#fdca26\"], [1.0, \"#f0f921\"]], \"type\": \"contour\"}], \"contourcarpet\": [{\"colorbar\": {\"outlinewidth\": 0, \"ticks\": \"\"}, \"type\": \"contourcarpet\"}], \"heatmap\": [{\"colorbar\": {\"outlinewidth\": 0, \"ticks\": \"\"}, \"colorscale\": [[0.0, \"#0d0887\"], [0.1111111111111111, \"#46039f\"], [0.2222222222222222, \"#7201a8\"], [0.3333333333333333, \"#9c179e\"], [0.4444444444444444, \"#bd3786\"], [0.5555555555555556, \"#d8576b\"], [0.6666666666666666, \"#ed7953\"], [0.7777777777777778, \"#fb9f3a\"], [0.8888888888888888, \"#fdca26\"], [1.0, \"#f0f921\"]], \"type\": \"heatmap\"}], \"heatmapgl\": [{\"colorbar\": {\"outlinewidth\": 0, \"ticks\": \"\"}, \"colorscale\": [[0.0, \"#0d0887\"], [0.1111111111111111, \"#46039f\"], [0.2222222222222222, \"#7201a8\"], [0.3333333333333333, \"#9c179e\"], [0.4444444444444444, \"#bd3786\"], [0.5555555555555556, \"#d8576b\"], [0.6666666666666666, \"#ed7953\"], [0.7777777777777778, \"#fb9f3a\"], [0.8888888888888888, \"#fdca26\"], [1.0, \"#f0f921\"]], \"type\": \"heatmapgl\"}], \"histogram\": [{\"marker\": {\"colorbar\": {\"outlinewidth\": 0, \"ticks\": \"\"}}, \"type\": \"histogram\"}], \"histogram2d\": [{\"colorbar\": {\"outlinewidth\": 0, \"ticks\": \"\"}, \"colorscale\": [[0.0, \"#0d0887\"], [0.1111111111111111, \"#46039f\"], [0.2222222222222222, \"#7201a8\"], [0.3333333333333333, \"#9c179e\"], [0.4444444444444444, \"#bd3786\"], [0.5555555555555556, \"#d8576b\"], [0.6666666666666666, \"#ed7953\"], [0.7777777777777778, \"#fb9f3a\"], [0.8888888888888888, \"#fdca26\"], [1.0, \"#f0f921\"]], \"type\": \"histogram2d\"}], \"histogram2dcontour\": [{\"colorbar\": {\"outlinewidth\": 0, \"ticks\": \"\"}, \"colorscale\": [[0.0, \"#0d0887\"], [0.1111111111111111, \"#46039f\"], [0.2222222222222222, \"#7201a8\"], [0.3333333333333333, \"#9c179e\"], [0.4444444444444444, \"#bd3786\"], [0.5555555555555556, \"#d8576b\"], [0.6666666666666666, \"#ed7953\"], [0.7777777777777778, \"#fb9f3a\"], [0.8888888888888888, \"#fdca26\"], [1.0, \"#f0f921\"]], \"type\": \"histogram2dcontour\"}], \"mesh3d\": [{\"colorbar\": {\"outlinewidth\": 0, \"ticks\": \"\"}, \"type\": \"mesh3d\"}], \"parcoords\": [{\"line\": {\"colorbar\": {\"outlinewidth\": 0, \"ticks\": \"\"}}, \"type\": \"parcoords\"}], \"pie\": [{\"automargin\": true, \"type\": \"pie\"}], \"scatter\": [{\"marker\": {\"colorbar\": {\"outlinewidth\": 0, \"ticks\": \"\"}}, \"type\": \"scatter\"}], \"scatter3d\": [{\"line\": {\"colorbar\": {\"outlinewidth\": 0, \"ticks\": \"\"}}, \"marker\": {\"colorbar\": {\"outlinewidth\": 0, \"ticks\": \"\"}}, \"type\": \"scatter3d\"}], \"scattercarpet\": [{\"marker\": {\"colorbar\": {\"outlinewidth\": 0, \"ticks\": \"\"}}, \"type\": \"scattercarpet\"}], \"scattergeo\": [{\"marker\": {\"colorbar\": {\"outlinewidth\": 0, \"ticks\": \"\"}}, \"type\": \"scattergeo\"}], \"scattergl\": [{\"marker\": {\"colorbar\": {\"outlinewidth\": 0, \"ticks\": \"\"}}, \"type\": \"scattergl\"}], \"scattermapbox\": [{\"marker\": {\"colorbar\": {\"outlinewidth\": 0, \"ticks\": \"\"}}, \"type\": \"scattermapbox\"}], \"scatterpolar\": [{\"marker\": {\"colorbar\": {\"outlinewidth\": 0, \"ticks\": \"\"}}, \"type\": \"scatterpolar\"}], \"scatterpolargl\": [{\"marker\": {\"colorbar\": {\"outlinewidth\": 0, \"ticks\": \"\"}}, \"type\": \"scatterpolargl\"}], \"scatterternary\": [{\"marker\": {\"colorbar\": {\"outlinewidth\": 0, \"ticks\": \"\"}}, \"type\": \"scatterternary\"}], \"surface\": [{\"colorbar\": {\"outlinewidth\": 0, \"ticks\": \"\"}, \"colorscale\": [[0.0, \"#0d0887\"], [0.1111111111111111, \"#46039f\"], [0.2222222222222222, \"#7201a8\"], [0.3333333333333333, \"#9c179e\"], [0.4444444444444444, \"#bd3786\"], [0.5555555555555556, \"#d8576b\"], [0.6666666666666666, \"#ed7953\"], [0.7777777777777778, \"#fb9f3a\"], [0.8888888888888888, \"#fdca26\"], [1.0, \"#f0f921\"]], \"type\": \"surface\"}], \"table\": [{\"cells\": {\"fill\": {\"color\": \"#EBF0F8\"}, \"line\": {\"color\": \"white\"}}, \"header\": {\"fill\": {\"color\": \"#C8D4E3\"}, \"line\": {\"color\": \"white\"}}, \"type\": \"table\"}]}, \"layout\": {\"annotationdefaults\": {\"arrowcolor\": \"#2a3f5f\", \"arrowhead\": 0, \"arrowwidth\": 1}, \"coloraxis\": {\"colorbar\": {\"outlinewidth\": 0, \"ticks\": \"\"}}, \"colorscale\": {\"diverging\": [[0, \"#8e0152\"], [0.1, \"#c51b7d\"], [0.2, \"#de77ae\"], [0.3, \"#f1b6da\"], [0.4, \"#fde0ef\"], [0.5, \"#f7f7f7\"], [0.6, \"#e6f5d0\"], [0.7, \"#b8e186\"], [0.8, \"#7fbc41\"], [0.9, \"#4d9221\"], [1, \"#276419\"]], \"sequential\": [[0.0, \"#0d0887\"], [0.1111111111111111, \"#46039f\"], [0.2222222222222222, \"#7201a8\"], [0.3333333333333333, \"#9c179e\"], [0.4444444444444444, \"#bd3786\"], [0.5555555555555556, \"#d8576b\"], [0.6666666666666666, \"#ed7953\"], [0.7777777777777778, \"#fb9f3a\"], [0.8888888888888888, \"#fdca26\"], [1.0, \"#f0f921\"]], \"sequentialminus\": [[0.0, \"#0d0887\"], [0.1111111111111111, \"#46039f\"], [0.2222222222222222, \"#7201a8\"], [0.3333333333333333, \"#9c179e\"], [0.4444444444444444, \"#bd3786\"], [0.5555555555555556, \"#d8576b\"], [0.6666666666666666, \"#ed7953\"], [0.7777777777777778, \"#fb9f3a\"], [0.8888888888888888, \"#fdca26\"], [1.0, \"#f0f921\"]]}, \"colorway\": [\"#636efa\", \"#EF553B\", \"#00cc96\", \"#ab63fa\", \"#FFA15A\", \"#19d3f3\", \"#FF6692\", \"#B6E880\", \"#FF97FF\", \"#FECB52\"], \"font\": {\"color\": \"#2a3f5f\"}, \"geo\": {\"bgcolor\": \"white\", \"lakecolor\": \"white\", \"landcolor\": \"#E5ECF6\", \"showlakes\": true, \"showland\": true, \"subunitcolor\": \"white\"}, \"hoverlabel\": {\"align\": \"left\"}, \"hovermode\": \"closest\", \"mapbox\": {\"style\": \"light\"}, \"paper_bgcolor\": \"white\", \"plot_bgcolor\": \"#E5ECF6\", \"polar\": {\"angularaxis\": {\"gridcolor\": \"white\", \"linecolor\": \"white\", \"ticks\": \"\"}, \"bgcolor\": \"#E5ECF6\", \"radialaxis\": {\"gridcolor\": \"white\", \"linecolor\": \"white\", \"ticks\": \"\"}}, \"scene\": {\"xaxis\": {\"backgroundcolor\": \"#E5ECF6\", \"gridcolor\": \"white\", \"gridwidth\": 2, \"linecolor\": \"white\", \"showbackground\": true, \"ticks\": \"\", \"zerolinecolor\": \"white\"}, \"yaxis\": {\"backgroundcolor\": \"#E5ECF6\", \"gridcolor\": \"white\", \"gridwidth\": 2, \"linecolor\": \"white\", \"showbackground\": true, \"ticks\": \"\", \"zerolinecolor\": \"white\"}, \"zaxis\": {\"backgroundcolor\": \"#E5ECF6\", \"gridcolor\": \"white\", \"gridwidth\": 2, \"linecolor\": \"white\", \"showbackground\": true, \"ticks\": \"\", \"zerolinecolor\": \"white\"}}, \"shapedefaults\": {\"line\": {\"color\": \"#2a3f5f\"}}, \"ternary\": {\"aaxis\": {\"gridcolor\": \"white\", \"linecolor\": \"white\", \"ticks\": \"\"}, \"baxis\": {\"gridcolor\": \"white\", \"linecolor\": \"white\", \"ticks\": \"\"}, \"bgcolor\": \"#E5ECF6\", \"caxis\": {\"gridcolor\": \"white\", \"linecolor\": \"white\", \"ticks\": \"\"}}, \"title\": {\"x\": 0.05}, \"xaxis\": {\"automargin\": true, \"gridcolor\": \"white\", \"linecolor\": \"white\", \"ticks\": \"\", \"title\": {\"standoff\": 15}, \"zerolinecolor\": \"white\", \"zerolinewidth\": 2}, \"yaxis\": {\"automargin\": true, \"gridcolor\": \"white\", \"linecolor\": \"white\", \"ticks\": \"\", \"title\": {\"standoff\": 15}, \"zerolinecolor\": \"white\", \"zerolinewidth\": 2}}}},\n",
       "                        {\"responsive\": true}\n",
       "                    ).then(function(){\n",
       "                            \n",
       "var gd = document.getElementById('bb8c7a7b-1818-4cec-8b7a-31d78da21a0b');\n",
       "var x = new MutationObserver(function (mutations, observer) {{\n",
       "        var display = window.getComputedStyle(gd).display;\n",
       "        if (!display || display === 'none') {{\n",
       "            console.log([gd, 'removed!']);\n",
       "            Plotly.purge(gd);\n",
       "            observer.disconnect();\n",
       "        }}\n",
       "}});\n",
       "\n",
       "// Listen for the removal of the full notebook cells\n",
       "var notebookContainer = gd.closest('#notebook-container');\n",
       "if (notebookContainer) {{\n",
       "    x.observe(notebookContainer, {childList: true});\n",
       "}}\n",
       "\n",
       "// Listen for the clearing of the current output cell\n",
       "var outputEl = gd.closest('.output');\n",
       "if (outputEl) {{\n",
       "    x.observe(outputEl, {childList: true});\n",
       "}}\n",
       "\n",
       "                        })\n",
       "                };\n",
       "                });\n",
       "            </script>\n",
       "        </div>"
      ]
     },
     "metadata": {},
     "output_type": "display_data"
    }
   ],
   "source": [
    "import plotly.express as px\n",
    "# df[\"world\"] = \"world\" # in order to have a single root node\n",
    "fig = px.treemap(df_1, \n",
    "                 path=['country', 'city', 'name'], \n",
    "                 values='tweet_volume',\n",
    "                  color='tweet_volume',\n",
    "                  color_continuous_scale='RdBu')\n",
    "fig.data[0]['hovertemplate']='%{tweet_volume}'\n",
    "fig.show()"
   ]
  },
  {
   "cell_type": "code",
   "execution_count": 59,
   "metadata": {},
   "outputs": [],
   "source": [
    "dict_countries = [{f'label': df_2['name_country'].values[index], 'value': df_2['woeid'].values[index]} for index in range(len(df_2['name_country'].values))]\n",
    "            "
   ]
  },
  {
   "cell_type": "code",
   "execution_count": 73,
   "metadata": {},
   "outputs": [
    {
     "data": {
      "text/html": [
       "<div>\n",
       "<style scoped>\n",
       "    .dataframe tbody tr th:only-of-type {\n",
       "        vertical-align: middle;\n",
       "    }\n",
       "\n",
       "    .dataframe tbody tr th {\n",
       "        vertical-align: top;\n",
       "    }\n",
       "\n",
       "    .dataframe thead th {\n",
       "        text-align: right;\n",
       "    }\n",
       "</style>\n",
       "<table border=\"1\" class=\"dataframe\">\n",
       "  <thead>\n",
       "    <tr style=\"text-align: right;\">\n",
       "      <th></th>\n",
       "      <th>name</th>\n",
       "      <th>url</th>\n",
       "      <th>promoted_content</th>\n",
       "      <th>query</th>\n",
       "      <th>tweet_volume</th>\n",
       "    </tr>\n",
       "  </thead>\n",
       "  <tbody>\n",
       "    <tr>\n",
       "      <th>0</th>\n",
       "      <td>#falaaa</td>\n",
       "      <td>http://twitter.com/search?q=%23falaaa</td>\n",
       "      <td>None</td>\n",
       "      <td>%23falaaa</td>\n",
       "      <td>NaN</td>\n",
       "    </tr>\n",
       "    <tr>\n",
       "      <th>1</th>\n",
       "      <td>#MondayMotivation</td>\n",
       "      <td>http://twitter.com/search?q=%23MondayMotivation</td>\n",
       "      <td>None</td>\n",
       "      <td>%23MondayMotivation</td>\n",
       "      <td>107695.0</td>\n",
       "    </tr>\n",
       "    <tr>\n",
       "      <th>2</th>\n",
       "      <td>Gomes</td>\n",
       "      <td>http://twitter.com/search?q=Gomes</td>\n",
       "      <td>None</td>\n",
       "      <td>Gomes</td>\n",
       "      <td>35831.0</td>\n",
       "    </tr>\n",
       "    <tr>\n",
       "      <th>3</th>\n",
       "      <td>#leicesterlockdown</td>\n",
       "      <td>http://twitter.com/search?q=%23leicesterlockdown</td>\n",
       "      <td>None</td>\n",
       "      <td>%23leicesterlockdown</td>\n",
       "      <td>NaN</td>\n",
       "    </tr>\n",
       "    <tr>\n",
       "      <th>4</th>\n",
       "      <td>#AskNtcham</td>\n",
       "      <td>http://twitter.com/search?q=%23AskNtcham</td>\n",
       "      <td>None</td>\n",
       "      <td>%23AskNtcham</td>\n",
       "      <td>NaN</td>\n",
       "    </tr>\n",
       "    <tr>\n",
       "      <th>5</th>\n",
       "      <td>#SpotlightPride</td>\n",
       "      <td>http://twitter.com/search?q=%23SpotlightPride</td>\n",
       "      <td>None</td>\n",
       "      <td>%23SpotlightPride</td>\n",
       "      <td>NaN</td>\n",
       "    </tr>\n",
       "    <tr>\n",
       "      <th>6</th>\n",
       "      <td>Iran</td>\n",
       "      <td>http://twitter.com/search?q=Iran</td>\n",
       "      <td>None</td>\n",
       "      <td>Iran</td>\n",
       "      <td>163614.0</td>\n",
       "    </tr>\n",
       "    <tr>\n",
       "      <th>7</th>\n",
       "      <td>Pipe Bomb</td>\n",
       "      <td>http://twitter.com/search?q=%22Pipe+Bomb%22</td>\n",
       "      <td>None</td>\n",
       "      <td>%22Pipe+Bomb%22</td>\n",
       "      <td>NaN</td>\n",
       "    </tr>\n",
       "    <tr>\n",
       "      <th>8</th>\n",
       "      <td>sunmi</td>\n",
       "      <td>http://twitter.com/search?q=sunmi</td>\n",
       "      <td>None</td>\n",
       "      <td>sunmi</td>\n",
       "      <td>98414.0</td>\n",
       "    </tr>\n",
       "    <tr>\n",
       "      <th>9</th>\n",
       "      <td>Matt Lucas</td>\n",
       "      <td>http://twitter.com/search?q=%22Matt+Lucas%22</td>\n",
       "      <td>None</td>\n",
       "      <td>%22Matt+Lucas%22</td>\n",
       "      <td>NaN</td>\n",
       "    </tr>\n",
       "    <tr>\n",
       "      <th>10</th>\n",
       "      <td>Keir Starmer</td>\n",
       "      <td>http://twitter.com/search?q=%22Keir+Starmer%22</td>\n",
       "      <td>None</td>\n",
       "      <td>%22Keir+Starmer%22</td>\n",
       "      <td>83318.0</td>\n",
       "    </tr>\n",
       "    <tr>\n",
       "      <th>11</th>\n",
       "      <td>Revenge of the Sith</td>\n",
       "      <td>http://twitter.com/search?q=%22Revenge+of+the+...</td>\n",
       "      <td>None</td>\n",
       "      <td>%22Revenge+of+the+Sith%22</td>\n",
       "      <td>NaN</td>\n",
       "    </tr>\n",
       "    <tr>\n",
       "      <th>12</th>\n",
       "      <td>Balogun</td>\n",
       "      <td>http://twitter.com/search?q=Balogun</td>\n",
       "      <td>None</td>\n",
       "      <td>Balogun</td>\n",
       "      <td>NaN</td>\n",
       "    </tr>\n",
       "    <tr>\n",
       "      <th>13</th>\n",
       "      <td>Poch</td>\n",
       "      <td>http://twitter.com/search?q=Poch</td>\n",
       "      <td>None</td>\n",
       "      <td>Poch</td>\n",
       "      <td>NaN</td>\n",
       "    </tr>\n",
       "    <tr>\n",
       "      <th>14</th>\n",
       "      <td>Worzel Gummidge</td>\n",
       "      <td>http://twitter.com/search?q=%22Worzel+Gummidge%22</td>\n",
       "      <td>None</td>\n",
       "      <td>%22Worzel+Gummidge%22</td>\n",
       "      <td>NaN</td>\n",
       "    </tr>\n",
       "    <tr>\n",
       "      <th>15</th>\n",
       "      <td>Roosevelt</td>\n",
       "      <td>http://twitter.com/search?q=Roosevelt</td>\n",
       "      <td>None</td>\n",
       "      <td>Roosevelt</td>\n",
       "      <td>15522.0</td>\n",
       "    </tr>\n",
       "    <tr>\n",
       "      <th>16</th>\n",
       "      <td>wonho</td>\n",
       "      <td>http://twitter.com/search?q=wonho</td>\n",
       "      <td>None</td>\n",
       "      <td>wonho</td>\n",
       "      <td>95769.0</td>\n",
       "    </tr>\n",
       "    <tr>\n",
       "      <th>17</th>\n",
       "      <td>Kate Forbes</td>\n",
       "      <td>http://twitter.com/search?q=%22Kate+Forbes%22</td>\n",
       "      <td>None</td>\n",
       "      <td>%22Kate+Forbes%22</td>\n",
       "      <td>NaN</td>\n",
       "    </tr>\n",
       "    <tr>\n",
       "      <th>18</th>\n",
       "      <td>Yarmouth</td>\n",
       "      <td>http://twitter.com/search?q=Yarmouth</td>\n",
       "      <td>None</td>\n",
       "      <td>Yarmouth</td>\n",
       "      <td>NaN</td>\n",
       "    </tr>\n",
       "    <tr>\n",
       "      <th>19</th>\n",
       "      <td>Erica</td>\n",
       "      <td>http://twitter.com/search?q=Erica</td>\n",
       "      <td>None</td>\n",
       "      <td>Erica</td>\n",
       "      <td>22158.0</td>\n",
       "    </tr>\n",
       "    <tr>\n",
       "      <th>20</th>\n",
       "      <td>Times Radio</td>\n",
       "      <td>http://twitter.com/search?q=%22Times+Radio%22</td>\n",
       "      <td>None</td>\n",
       "      <td>%22Times+Radio%22</td>\n",
       "      <td>NaN</td>\n",
       "    </tr>\n",
       "    <tr>\n",
       "      <th>21</th>\n",
       "      <td>Craig Gordon</td>\n",
       "      <td>http://twitter.com/search?q=%22Craig+Gordon%22</td>\n",
       "      <td>None</td>\n",
       "      <td>%22Craig+Gordon%22</td>\n",
       "      <td>NaN</td>\n",
       "    </tr>\n",
       "    <tr>\n",
       "      <th>22</th>\n",
       "      <td>Toffee</td>\n",
       "      <td>http://twitter.com/search?q=Toffee</td>\n",
       "      <td>None</td>\n",
       "      <td>Toffee</td>\n",
       "      <td>NaN</td>\n",
       "    </tr>\n",
       "    <tr>\n",
       "      <th>23</th>\n",
       "      <td>AJ Tracey</td>\n",
       "      <td>http://twitter.com/search?q=%22AJ+Tracey%22</td>\n",
       "      <td>None</td>\n",
       "      <td>%22AJ+Tracey%22</td>\n",
       "      <td>NaN</td>\n",
       "    </tr>\n",
       "    <tr>\n",
       "      <th>24</th>\n",
       "      <td>ray harryhausen</td>\n",
       "      <td>http://twitter.com/search?q=%22ray+harryhausen%22</td>\n",
       "      <td>None</td>\n",
       "      <td>%22ray+harryhausen%22</td>\n",
       "      <td>NaN</td>\n",
       "    </tr>\n",
       "    <tr>\n",
       "      <th>25</th>\n",
       "      <td>One Night Stand</td>\n",
       "      <td>http://twitter.com/search?q=%22One+Night+Stand%22</td>\n",
       "      <td>None</td>\n",
       "      <td>%22One+Night+Stand%22</td>\n",
       "      <td>NaN</td>\n",
       "    </tr>\n",
       "    <tr>\n",
       "      <th>26</th>\n",
       "      <td>Rowling</td>\n",
       "      <td>http://twitter.com/search?q=Rowling</td>\n",
       "      <td>None</td>\n",
       "      <td>Rowling</td>\n",
       "      <td>110486.0</td>\n",
       "    </tr>\n",
       "    <tr>\n",
       "      <th>27</th>\n",
       "      <td>John Wayne</td>\n",
       "      <td>http://twitter.com/search?q=%22John+Wayne%22</td>\n",
       "      <td>None</td>\n",
       "      <td>%22John+Wayne%22</td>\n",
       "      <td>41890.0</td>\n",
       "    </tr>\n",
       "    <tr>\n",
       "      <th>28</th>\n",
       "      <td>Ian Evatt</td>\n",
       "      <td>http://twitter.com/search?q=%22Ian+Evatt%22</td>\n",
       "      <td>None</td>\n",
       "      <td>%22Ian+Evatt%22</td>\n",
       "      <td>NaN</td>\n",
       "    </tr>\n",
       "    <tr>\n",
       "      <th>29</th>\n",
       "      <td>Mejbri</td>\n",
       "      <td>http://twitter.com/search?q=Mejbri</td>\n",
       "      <td>None</td>\n",
       "      <td>Mejbri</td>\n",
       "      <td>NaN</td>\n",
       "    </tr>\n",
       "    <tr>\n",
       "      <th>30</th>\n",
       "      <td>#Wimbledon</td>\n",
       "      <td>http://twitter.com/search?q=%23Wimbledon</td>\n",
       "      <td>None</td>\n",
       "      <td>%23Wimbledon</td>\n",
       "      <td>NaN</td>\n",
       "    </tr>\n",
       "    <tr>\n",
       "      <th>31</th>\n",
       "      <td>#LooseWomen</td>\n",
       "      <td>http://twitter.com/search?q=%23LooseWomen</td>\n",
       "      <td>None</td>\n",
       "      <td>%23LooseWomen</td>\n",
       "      <td>NaN</td>\n",
       "    </tr>\n",
       "    <tr>\n",
       "      <th>32</th>\n",
       "      <td>#Nibbies</td>\n",
       "      <td>http://twitter.com/search?q=%23Nibbies</td>\n",
       "      <td>None</td>\n",
       "      <td>%23Nibbies</td>\n",
       "      <td>NaN</td>\n",
       "    </tr>\n",
       "    <tr>\n",
       "      <th>33</th>\n",
       "      <td>#TransWomenAreWomen</td>\n",
       "      <td>http://twitter.com/search?q=%23TransWomenAreWomen</td>\n",
       "      <td>None</td>\n",
       "      <td>%23TransWomenAreWomen</td>\n",
       "      <td>NaN</td>\n",
       "    </tr>\n",
       "    <tr>\n",
       "      <th>34</th>\n",
       "      <td>#herefordhour</td>\n",
       "      <td>http://twitter.com/search?q=%23herefordhour</td>\n",
       "      <td>None</td>\n",
       "      <td>%23herefordhour</td>\n",
       "      <td>NaN</td>\n",
       "    </tr>\n",
       "    <tr>\n",
       "      <th>35</th>\n",
       "      <td>#GhostofTsushima</td>\n",
       "      <td>http://twitter.com/search?q=%23GhostofTsushima</td>\n",
       "      <td>None</td>\n",
       "      <td>%23GhostofTsushima</td>\n",
       "      <td>NaN</td>\n",
       "    </tr>\n",
       "    <tr>\n",
       "      <th>36</th>\n",
       "      <td>#ChildrensArtWeek</td>\n",
       "      <td>http://twitter.com/search?q=%23ChildrensArtWeek</td>\n",
       "      <td>None</td>\n",
       "      <td>%23ChildrensArtWeek</td>\n",
       "      <td>NaN</td>\n",
       "    </tr>\n",
       "    <tr>\n",
       "      <th>37</th>\n",
       "      <td>#DonaldOut</td>\n",
       "      <td>http://twitter.com/search?q=%23DonaldOut</td>\n",
       "      <td>None</td>\n",
       "      <td>%23DonaldOut</td>\n",
       "      <td>NaN</td>\n",
       "    </tr>\n",
       "    <tr>\n",
       "      <th>38</th>\n",
       "      <td>#BASEBALLCAPS</td>\n",
       "      <td>http://twitter.com/search?q=%23BASEBALLCAPS</td>\n",
       "      <td>None</td>\n",
       "      <td>%23BASEBALLCAPS</td>\n",
       "      <td>NaN</td>\n",
       "    </tr>\n",
       "    <tr>\n",
       "      <th>39</th>\n",
       "      <td>#wato</td>\n",
       "      <td>http://twitter.com/search?q=%23wato</td>\n",
       "      <td>None</td>\n",
       "      <td>%23wato</td>\n",
       "      <td>NaN</td>\n",
       "    </tr>\n",
       "    <tr>\n",
       "      <th>40</th>\n",
       "      <td>#TrumpIsARacist</td>\n",
       "      <td>http://twitter.com/search?q=%23TrumpIsARacist</td>\n",
       "      <td>None</td>\n",
       "      <td>%23TrumpIsARacist</td>\n",
       "      <td>49010.0</td>\n",
       "    </tr>\n",
       "    <tr>\n",
       "      <th>41</th>\n",
       "      <td>#Karachistockexchange</td>\n",
       "      <td>http://twitter.com/search?q=%23Karachistockexc...</td>\n",
       "      <td>None</td>\n",
       "      <td>%23Karachistockexchange</td>\n",
       "      <td>60497.0</td>\n",
       "    </tr>\n",
       "    <tr>\n",
       "      <th>42</th>\n",
       "      <td>#askiommi</td>\n",
       "      <td>http://twitter.com/search?q=%23askiommi</td>\n",
       "      <td>None</td>\n",
       "      <td>%23askiommi</td>\n",
       "      <td>NaN</td>\n",
       "    </tr>\n",
       "    <tr>\n",
       "      <th>43</th>\n",
       "      <td>#Harryhausen100</td>\n",
       "      <td>http://twitter.com/search?q=%23Harryhausen100</td>\n",
       "      <td>None</td>\n",
       "      <td>%23Harryhausen100</td>\n",
       "      <td>NaN</td>\n",
       "    </tr>\n",
       "    <tr>\n",
       "      <th>44</th>\n",
       "      <td>#BorisMustGo</td>\n",
       "      <td>http://twitter.com/search?q=%23BorisMustGo</td>\n",
       "      <td>None</td>\n",
       "      <td>%23BorisMustGo</td>\n",
       "      <td>NaN</td>\n",
       "    </tr>\n",
       "    <tr>\n",
       "      <th>45</th>\n",
       "      <td>#dominicummimgs</td>\n",
       "      <td>http://twitter.com/search?q=%23dominicummimgs</td>\n",
       "      <td>None</td>\n",
       "      <td>%23dominicummimgs</td>\n",
       "      <td>NaN</td>\n",
       "    </tr>\n",
       "    <tr>\n",
       "      <th>46</th>\n",
       "      <td>#TheTimeIsNow</td>\n",
       "      <td>http://twitter.com/search?q=%23TheTimeIsNow</td>\n",
       "      <td>None</td>\n",
       "      <td>%23TheTimeIsNow</td>\n",
       "      <td>NaN</td>\n",
       "    </tr>\n",
       "    <tr>\n",
       "      <th>47</th>\n",
       "      <td>#martinlewis</td>\n",
       "      <td>http://twitter.com/search?q=%23martinlewis</td>\n",
       "      <td>None</td>\n",
       "      <td>%23martinlewis</td>\n",
       "      <td>NaN</td>\n",
       "    </tr>\n",
       "    <tr>\n",
       "      <th>48</th>\n",
       "      <td>#UofGgrad20</td>\n",
       "      <td>http://twitter.com/search?q=%23UofGgrad20</td>\n",
       "      <td>None</td>\n",
       "      <td>%23UofGgrad20</td>\n",
       "      <td>NaN</td>\n",
       "    </tr>\n",
       "    <tr>\n",
       "      <th>49</th>\n",
       "      <td>#nationalcameraday</td>\n",
       "      <td>http://twitter.com/search?q=%23nationalcameraday</td>\n",
       "      <td>None</td>\n",
       "      <td>%23nationalcameraday</td>\n",
       "      <td>NaN</td>\n",
       "    </tr>\n",
       "  </tbody>\n",
       "</table>\n",
       "</div>"
      ],
      "text/plain": [
       "                     name                                                url  \\\n",
       "0                 #falaaa              http://twitter.com/search?q=%23falaaa   \n",
       "1       #MondayMotivation    http://twitter.com/search?q=%23MondayMotivation   \n",
       "2                   Gomes                  http://twitter.com/search?q=Gomes   \n",
       "3      #leicesterlockdown   http://twitter.com/search?q=%23leicesterlockdown   \n",
       "4              #AskNtcham           http://twitter.com/search?q=%23AskNtcham   \n",
       "5         #SpotlightPride      http://twitter.com/search?q=%23SpotlightPride   \n",
       "6                    Iran                   http://twitter.com/search?q=Iran   \n",
       "7               Pipe Bomb        http://twitter.com/search?q=%22Pipe+Bomb%22   \n",
       "8                   sunmi                  http://twitter.com/search?q=sunmi   \n",
       "9              Matt Lucas       http://twitter.com/search?q=%22Matt+Lucas%22   \n",
       "10           Keir Starmer     http://twitter.com/search?q=%22Keir+Starmer%22   \n",
       "11    Revenge of the Sith  http://twitter.com/search?q=%22Revenge+of+the+...   \n",
       "12                Balogun                http://twitter.com/search?q=Balogun   \n",
       "13                   Poch                   http://twitter.com/search?q=Poch   \n",
       "14        Worzel Gummidge  http://twitter.com/search?q=%22Worzel+Gummidge%22   \n",
       "15              Roosevelt              http://twitter.com/search?q=Roosevelt   \n",
       "16                  wonho                  http://twitter.com/search?q=wonho   \n",
       "17            Kate Forbes      http://twitter.com/search?q=%22Kate+Forbes%22   \n",
       "18               Yarmouth               http://twitter.com/search?q=Yarmouth   \n",
       "19                  Erica                  http://twitter.com/search?q=Erica   \n",
       "20            Times Radio      http://twitter.com/search?q=%22Times+Radio%22   \n",
       "21           Craig Gordon     http://twitter.com/search?q=%22Craig+Gordon%22   \n",
       "22                 Toffee                 http://twitter.com/search?q=Toffee   \n",
       "23              AJ Tracey        http://twitter.com/search?q=%22AJ+Tracey%22   \n",
       "24        ray harryhausen  http://twitter.com/search?q=%22ray+harryhausen%22   \n",
       "25        One Night Stand  http://twitter.com/search?q=%22One+Night+Stand%22   \n",
       "26                Rowling                http://twitter.com/search?q=Rowling   \n",
       "27             John Wayne       http://twitter.com/search?q=%22John+Wayne%22   \n",
       "28              Ian Evatt        http://twitter.com/search?q=%22Ian+Evatt%22   \n",
       "29                 Mejbri                 http://twitter.com/search?q=Mejbri   \n",
       "30             #Wimbledon           http://twitter.com/search?q=%23Wimbledon   \n",
       "31            #LooseWomen          http://twitter.com/search?q=%23LooseWomen   \n",
       "32               #Nibbies             http://twitter.com/search?q=%23Nibbies   \n",
       "33    #TransWomenAreWomen  http://twitter.com/search?q=%23TransWomenAreWomen   \n",
       "34          #herefordhour        http://twitter.com/search?q=%23herefordhour   \n",
       "35       #GhostofTsushima     http://twitter.com/search?q=%23GhostofTsushima   \n",
       "36      #ChildrensArtWeek    http://twitter.com/search?q=%23ChildrensArtWeek   \n",
       "37             #DonaldOut           http://twitter.com/search?q=%23DonaldOut   \n",
       "38          #BASEBALLCAPS        http://twitter.com/search?q=%23BASEBALLCAPS   \n",
       "39                  #wato                http://twitter.com/search?q=%23wato   \n",
       "40        #TrumpIsARacist      http://twitter.com/search?q=%23TrumpIsARacist   \n",
       "41  #Karachistockexchange  http://twitter.com/search?q=%23Karachistockexc...   \n",
       "42              #askiommi            http://twitter.com/search?q=%23askiommi   \n",
       "43        #Harryhausen100      http://twitter.com/search?q=%23Harryhausen100   \n",
       "44           #BorisMustGo         http://twitter.com/search?q=%23BorisMustGo   \n",
       "45        #dominicummimgs      http://twitter.com/search?q=%23dominicummimgs   \n",
       "46          #TheTimeIsNow        http://twitter.com/search?q=%23TheTimeIsNow   \n",
       "47           #martinlewis         http://twitter.com/search?q=%23martinlewis   \n",
       "48            #UofGgrad20          http://twitter.com/search?q=%23UofGgrad20   \n",
       "49     #nationalcameraday   http://twitter.com/search?q=%23nationalcameraday   \n",
       "\n",
       "   promoted_content                      query  tweet_volume  \n",
       "0              None                  %23falaaa           NaN  \n",
       "1              None        %23MondayMotivation      107695.0  \n",
       "2              None                      Gomes       35831.0  \n",
       "3              None       %23leicesterlockdown           NaN  \n",
       "4              None               %23AskNtcham           NaN  \n",
       "5              None          %23SpotlightPride           NaN  \n",
       "6              None                       Iran      163614.0  \n",
       "7              None            %22Pipe+Bomb%22           NaN  \n",
       "8              None                      sunmi       98414.0  \n",
       "9              None           %22Matt+Lucas%22           NaN  \n",
       "10             None         %22Keir+Starmer%22       83318.0  \n",
       "11             None  %22Revenge+of+the+Sith%22           NaN  \n",
       "12             None                    Balogun           NaN  \n",
       "13             None                       Poch           NaN  \n",
       "14             None      %22Worzel+Gummidge%22           NaN  \n",
       "15             None                  Roosevelt       15522.0  \n",
       "16             None                      wonho       95769.0  \n",
       "17             None          %22Kate+Forbes%22           NaN  \n",
       "18             None                   Yarmouth           NaN  \n",
       "19             None                      Erica       22158.0  \n",
       "20             None          %22Times+Radio%22           NaN  \n",
       "21             None         %22Craig+Gordon%22           NaN  \n",
       "22             None                     Toffee           NaN  \n",
       "23             None            %22AJ+Tracey%22           NaN  \n",
       "24             None      %22ray+harryhausen%22           NaN  \n",
       "25             None      %22One+Night+Stand%22           NaN  \n",
       "26             None                    Rowling      110486.0  \n",
       "27             None           %22John+Wayne%22       41890.0  \n",
       "28             None            %22Ian+Evatt%22           NaN  \n",
       "29             None                     Mejbri           NaN  \n",
       "30             None               %23Wimbledon           NaN  \n",
       "31             None              %23LooseWomen           NaN  \n",
       "32             None                 %23Nibbies           NaN  \n",
       "33             None      %23TransWomenAreWomen           NaN  \n",
       "34             None            %23herefordhour           NaN  \n",
       "35             None         %23GhostofTsushima           NaN  \n",
       "36             None        %23ChildrensArtWeek           NaN  \n",
       "37             None               %23DonaldOut           NaN  \n",
       "38             None            %23BASEBALLCAPS           NaN  \n",
       "39             None                    %23wato           NaN  \n",
       "40             None          %23TrumpIsARacist       49010.0  \n",
       "41             None    %23Karachistockexchange       60497.0  \n",
       "42             None                %23askiommi           NaN  \n",
       "43             None          %23Harryhausen100           NaN  \n",
       "44             None             %23BorisMustGo           NaN  \n",
       "45             None          %23dominicummimgs           NaN  \n",
       "46             None            %23TheTimeIsNow           NaN  \n",
       "47             None             %23martinlewis           NaN  \n",
       "48             None              %23UofGgrad20           NaN  \n",
       "49             None       %23nationalcameraday           NaN  "
      ]
     },
     "execution_count": 73,
     "metadata": {},
     "output_type": "execute_result"
    }
   ],
   "source": [
    "pd.DataFrame(twitter_client.trends_place(woeid)[0]['trends'])"
   ]
  },
  {
   "cell_type": "code",
   "execution_count": 68,
   "metadata": {},
   "outputs": [
    {
     "data": {
      "text/plain": [
       "'Worldwide'"
      ]
     },
     "execution_count": 68,
     "metadata": {},
     "output_type": "execute_result"
    }
   ],
   "source": [
    "twitter_client.trends_available()['name']"
   ]
  },
  {
   "cell_type": "code",
   "execution_count": 75,
   "metadata": {},
   "outputs": [],
   "source": [
    "from collections import Counter"
   ]
  },
  {
   "cell_type": "code",
   "execution_count": 79,
   "metadata": {},
   "outputs": [
    {
     "name": "stdout",
     "output_type": "stream",
     "text": [
      "0 3369\n",
      "1 118466\n"
     ]
    }
   ],
   "source": [
    "for i, x in enumerate([3369, 118466]):\n",
    "    print(i, x)"
   ]
  },
  {
   "cell_type": "code",
   "execution_count": 102,
   "metadata": {},
   "outputs": [
    {
     "data": {
      "text/plain": [
       "['Ottawa', 'Ecatepec de Morelos']"
      ]
     },
     "execution_count": 102,
     "metadata": {},
     "output_type": "execute_result"
    }
   ],
   "source": [
    "[df_2['name'][df_2['woeid']==woeid].values[0] for woeid in [3369, 118466]]"
   ]
  },
  {
   "cell_type": "code",
   "execution_count": null,
   "metadata": {},
   "outputs": [],
   "source": []
  }
 ],
 "metadata": {
  "kernelspec": {
   "display_name": "Python 3.8.0 64-bit",
   "language": "python",
   "name": "python38064bita3e2b9284fe241009277b40c2dcf841c"
  },
  "language_info": {
   "codemirror_mode": {
    "name": "ipython",
    "version": 3
   },
   "file_extension": ".py",
   "mimetype": "text/x-python",
   "name": "python",
   "nbconvert_exporter": "python",
   "pygments_lexer": "ipython3",
   "version": "3.8.0"
  }
 },
 "nbformat": 4,
 "nbformat_minor": 4
}
